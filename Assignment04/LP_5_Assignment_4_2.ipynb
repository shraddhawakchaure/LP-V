{
 "cells": [
  {
   "cell_type": "markdown",
   "id": "0a71b273",
   "metadata": {},
   "source": [
    "## LP 5\n",
    "### Name : Disha Chavan\n",
    "\n",
    "### Roll no. : 43212\n",
    "\n",
    "### Batch : P-10\n",
    "\n",
    "### Problem Statement : Implement Berkeley Algorithm for Clock Synchronization"
   ]
  },
  {
   "cell_type": "code",
   "execution_count": 3,
   "id": "ce6809dd",
   "metadata": {},
   "outputs": [
    {
     "name": "stdout",
     "output_type": "stream",
     "text": [
      "Starting to receive time from server\n",
      "\n",
      "Starting to receiving synchronized time from server\n",
      "\n",
      "Recent time sent successfully\n",
      "\n"
     ]
    },
    {
     "name": "stderr",
     "output_type": "stream",
     "text": [
      "Exception in thread Thread-10 (startReceivingTime):\n",
      "Traceback (most recent call last):\n",
      "  File \"C:\\Users\\Disha Chavan\\AppData\\Local\\Programs\\Python\\Python310\\lib\\threading.py\", line 1009, in _bootstrap_inner\n",
      "    self.run()\n",
      "  File \"C:\\Users\\Disha Chavan\\AppData\\Local\\Programs\\Python\\Python310\\lib\\threading.py\", line 946, in run\n",
      "    self._target(*self._args, **self._kwargs)\n",
      "  File \"C:\\Users\\Disha Chavan\\AppData\\Local\\Temp\\ipykernel_5192\\3273555360.py\", line 30, in startReceivingTime\n",
      "NameError: name 'parse' is not defined. Did you mean: 'parser'?\n"
     ]
    },
    {
     "name": "stdout",
     "output_type": "stream",
     "text": [
      "Recent time sent successfully\n",
      "\n",
      "Recent time sent successfully\n",
      "\n",
      "Recent time sent successfully\n",
      "\n",
      "Recent time sent successfully\n",
      "\n",
      "Recent time sent successfully\n",
      "\n",
      "Recent time sent successfully\n",
      "\n",
      "Recent time sent successfully\n",
      "\n",
      "Recent time sent successfully\n",
      "\n",
      "Recent time sent successfully\n",
      "\n",
      "Recent time sent successfully\n",
      "\n"
     ]
    }
   ],
   "source": [
    "# Python program imitating a client process\n",
    "\n",
    "from timeit import default_timer as timer\n",
    "from dateutil import parser\n",
    "import threading\n",
    "import datetime\n",
    "import socket\n",
    "import time\n",
    "\n",
    "'''\n",
    "Client thread function used to send time at client side \n",
    "'''\n",
    "\n",
    "def startSendingTime(slave_client):\n",
    "    \n",
    "    while True:\n",
    "        # Provide server with clock time at the client\n",
    "        slave_client.send(str(datetime.datetime.now()).encode())\n",
    "        print(\"Recent time sent successfully\", end = \"\\n\\n\")\n",
    "        time.sleep(5)\n",
    "        \n",
    "\n",
    "'''\n",
    "Client Thread function used to receive synchronized time\n",
    "'''\n",
    "def startReceivingTime(slave_client):\n",
    "    \n",
    "    while True:\n",
    "        # Receive data from the server\n",
    "        Synchronized_time = parse.parse(slave_client.recv(1024).decode())\n",
    "        print(\"Synchronized time at the client is: \" + str(Synchronized_time), end = \"\\n\\n\")\n",
    "        \n",
    "\n",
    "        \n",
    "'''\n",
    "Function used to Synchronize client process time\n",
    "'''\n",
    "def initiateSlaveClient(port = 8080):\n",
    "    slave_client = socket.socket()\n",
    "    # Connect to the clock server on local computer\n",
    "    slave_client.connect(('127.0.0.1', port))\n",
    "    \n",
    "    # Start sending time to server\n",
    "    print(\"Starting to receive time from server\\n\")\n",
    "    send_time_thread = threading.Thread(target = startSendingTime, args = (slave_client, ))\n",
    "    send_time_thread.start()\n",
    "    \n",
    "    # Start receiving synchronized from server\n",
    "    print(\"Starting to receiving synchronized time from server\\n\")\n",
    "    receive_time_thread = threading.Thread(target = startReceivingTime, args = (slave_client, ))\n",
    "    receive_time_thread.start()\n",
    "    \n",
    "\n",
    "# Driver function\n",
    "if __name__==\"__main__\":\n",
    "    # Initialize the slave/client\n",
    "    initiateSlaveClient(port = 8080)"
   ]
  },
  {
   "cell_type": "code",
   "execution_count": null,
   "id": "a99a88fc",
   "metadata": {},
   "outputs": [],
   "source": []
  }
 ],
 "metadata": {
  "kernelspec": {
   "display_name": "Python 3 (ipykernel)",
   "language": "python",
   "name": "python3"
  },
  "language_info": {
   "codemirror_mode": {
    "name": "ipython",
    "version": 3
   },
   "file_extension": ".py",
   "mimetype": "text/x-python",
   "name": "python",
   "nbconvert_exporter": "python",
   "pygments_lexer": "ipython3",
   "version": "3.10.4"
  }
 },
 "nbformat": 4,
 "nbformat_minor": 5
}
